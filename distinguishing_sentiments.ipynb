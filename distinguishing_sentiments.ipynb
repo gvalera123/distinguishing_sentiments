{
 "cells": [
  {
   "cell_type": "code",
   "execution_count": 1,
   "metadata": {},
   "outputs": [],
   "source": [
    "# Dependencies\n",
    "import tweepy\n",
    "import numpy as np\n",
    "import pandas as pd\n",
    "import matplotlib.pyplot as plt\n",
    "\n",
    "\n",
    "# Twitter API Keys\n",
    "from config import (consumer_key,\n",
    "                    consumer_secret,\n",
    "                    access_token,\n",
    "                    access_token_secret)"
   ]
  },
  {
   "cell_type": "code",
   "execution_count": 2,
   "metadata": {},
   "outputs": [],
   "source": [
    "# Import and Initialize Sentimen Analyzer\n",
    "from vaderSentiment.vaderSentiment import SentimentIntensityAnalyzer\n",
    "analyzer = SentimentIntensityAnalyzer()"
   ]
  },
  {
   "cell_type": "code",
   "execution_count": 3,
   "metadata": {},
   "outputs": [],
   "source": [
    "# Setup Tweepy API Authentication\n",
    "auth = tweepy.OAuthHandler(consumer_key, consumer_secret)\n",
    "auth.set_access_token(access_token, access_token_secret)\n",
    "api = tweepy.API(auth, parser=tweepy.parsers.JSONParser())"
   ]
  },
  {
   "cell_type": "code",
   "execution_count": 4,
   "metadata": {},
   "outputs": [],
   "source": [
    "# Target Search Term\n",
    "target_terms = (\"@BBCNews\", \"@CBSNews\" , \"@CNN\", \"@FoxNews\", \"@nytimes\")"
   ]
  },
  {
   "cell_type": "code",
   "execution_count": 5,
   "metadata": {},
   "outputs": [],
   "source": [
    "# List to hold results\n",
    "result_list_scatter = []\n",
    "result_list_mean = []\n",
    "csv_list = []\n",
    "\n",
    "# Loop through all targets\n",
    "for target in target_terms:\n",
    "\n",
    "    #List to hold Sentiments\n",
    "    compound_list = []\n",
    "    positive_list = []\n",
    "    negative_list = []\n",
    "    neutral_list = []\n",
    "    screen_name_list = []\n",
    "    date_list = []\n",
    "    text_list = []\n",
    "    tweet_number_list = []\n",
    "    \n",
    "    \n",
    "    #Run search around each tweet\n",
    "    public_tweets = api.search(target, count=100, result_type=\"recent\")\n",
    "    tweet_number = 101\n",
    "    #Loop through all tweets\n",
    "\n",
    "    for tweet in public_tweets[\"statuses\"]:\n",
    "\n",
    "            # Run Vader analysis on Each tweet\n",
    "            results = analyzer.polarity_scores(tweet[\"text\"])\n",
    "            compound = results[\"compound\"]\n",
    "            pos = results[\"pos\"]\n",
    "            neu = results[\"neu\"]\n",
    "            neg = results[\"neg\"]\n",
    "            tweet_number = tweet_number - 1\n",
    "            screen_name =tweet[\"user\"][\"screen_name\"]\n",
    "            date = tweet[\"created_at\"]\n",
    "            text = tweet[\"text\"]\n",
    "            \n",
    "            # Add each value to appropriate list\n",
    "            compound_list.append(compound)\n",
    "            positive_list.append(pos)\n",
    "            negative_list.append(neg)\n",
    "            neutral_list.append(neu)\n",
    "            screen_name_list.append(screen_name)\n",
    "            date_list.append(date)\n",
    "            text_list.append(text)\n",
    "            tweet_number_list.append(tweet_number)\n",
    "            \n",
    "            csv = {\n",
    "                \"User\":target,\n",
    "                \"compound\":compound,\n",
    "                \"positive\":pos,\n",
    "                \"neutral\":neu,\n",
    "                \"negative\":neg,\n",
    "                \"screen_name\":screen_name,\n",
    "                \"date\":date,\n",
    "                \"text\":text,\n",
    "                \"tweet_id\":tweet_number\n",
    "                }\n",
    "            \n",
    "            csv_list.append(csv)\n",
    "\n",
    "    # Store Sentiments\n",
    "    sentiment_scatter = {\n",
    "        \"User\":target,\n",
    "        \"compound\":compound_list,\n",
    "        \"positive\":positive_list,\n",
    "        \"neutral\":neutral_list,\n",
    "        \"negative\":negative_list,\n",
    "        \"screen_name\":screen_name_list,\n",
    "        \"date\":date_list,\n",
    "        \"text\":text_list,\n",
    "        \"tweet_id\":tweet_number_list\n",
    "        }\n",
    "    \n",
    "    sentiment_mean = {\n",
    "        \"User\":target,\n",
    "        \"compound\":np.mean(compound_list),\n",
    "        \"positive\":np.mean(positive_list),\n",
    "        \"neutral\":np.mean(neutral_list),\n",
    "        \"negative\":np.mean(negative_list)\n",
    "        }\n",
    "\n",
    "                     \n",
    "    result_list_scatter.append(sentiment_scatter)    \n",
    "    result_list_mean.append(sentiment_mean)\n",
    "    "
   ]
  },
  {
   "cell_type": "code",
   "execution_count": 6,
   "metadata": {},
   "outputs": [],
   "source": [
    "# Expose Result list using data frame in order to check results\n",
    "df_tweet = pd.DataFrame(result_list_scatter)\n",
    "\n",
    "# Create dataset for each user\n",
    "df_bbc = df_tweet.loc[df_tweet['User']=='@BBCNews']\n",
    "df_cbs = df_tweet.loc[df_tweet['User']=='@CBSNews']\n",
    "df_cnn = df_tweet.loc[df_tweet['User']=='@CNN']\n",
    "df_fox = df_tweet.loc[df_tweet['User']=='@FoxNews']\n",
    "df_nyt = df_tweet.loc[df_tweet['User']=='@nytimes']\n"
   ]
  },
  {
   "cell_type": "code",
   "execution_count": 7,
   "metadata": {},
   "outputs": [],
   "source": [
    "# Set x y variables\n",
    "bbc_x = list(df_bbc['tweet_id'])[0]\n",
    "bbc_y = list(df_bbc['compound'])[0]\n",
    "\n",
    "cbs_x = list(df_cbs['tweet_id'])[0]\n",
    "cbs_y = list(df_cbs['compound'])[0]\n",
    "\n",
    "cnn_x = list(df_cnn['tweet_id'])[0]\n",
    "cnn_y = list(df_cnn['compound'])[0]\n",
    "\n",
    "fox_x = list(df_fox['tweet_id'])[0]\n",
    "fox_y = list(df_fox['compound'])[0]\n",
    "\n",
    "nyt_x = list(df_nyt['tweet_id'])[0]\n",
    "nyt_y = list(df_nyt['compound'])[0]"
   ]
  },
  {
   "cell_type": "code",
   "execution_count": 8,
   "metadata": {},
   "outputs": [
    {
     "data": {
      "text/plain": [
       "<function matplotlib.pyplot.show(*args, **kw)>"
      ]
     },
     "execution_count": 8,
     "metadata": {},
     "output_type": "execute_result"
    },
    {
     "data": {
      "image/png": "[encoded data removed]",
      "text/plain": [
       "<Figure size 720x504 with 1 Axes>"
      ]
     },
     "metadata": {},
     "output_type": "display_data"
    }
   ],
   "source": [
    "fig_size = plt.rcParams[\"figure.figsize\"]\n",
    "fig_size[0] = 10\n",
    "fig_size[1] = 7\n",
    "plt.rcParams[\"figure.figsize\"] = fig_size\n",
    "\n",
    "\n",
    "# plot each user\n",
    "plt.scatter(bbc_x,bbc_y,label = 'BBC',color = 'b')\n",
    "plt.scatter(cbs_x,cbs_y,label = 'CBS',color = 'g')\n",
    "plt.scatter(cnn_x,cnn_y,label = 'CNN',color = 'r')\n",
    "plt.scatter(fox_x,fox_y,label = 'Fox',color = 'c')\n",
    "plt.scatter(nyt_x,nyt_y,label = 'New York Times',color = 'm')\n",
    "\n",
    "plt.ylabel('Tweet Polarity')\n",
    "plt.xlabel('Tweets Ago')\n",
    "plt.title('Sentiment Analysis of Media Tweets')\n",
    "plt.legend(loc = 'center left', bbox_to_anchor =(1, 0.5), title='Media Sources')\n",
    "plt.grid(True)\n",
    "\n",
    "plt.show\n",
    "plt.savefig('media_tweets_scatter.png')"
   ]
  },
  {
   "cell_type": "code",
   "execution_count": 9,
   "metadata": {},
   "outputs": [
    {
     "data": {
      "text/html": [
       "<div>\n",
       "<style scoped>\n",
       "    .dataframe tbody tr th:only-of-type {\n",
       "        vertical-align: middle;\n",
       "    }\n",
       "\n",
       "    .dataframe tbody tr th {\n",
       "        vertical-align: top;\n",
       "    }\n",
       "\n",
       "    .dataframe thead th {\n",
       "        text-align: right;\n",
       "    }\n",
       "</style>\n",
       "<table border=\"1\" class=\"dataframe\">\n",
       "  <thead>\n",
       "    <tr style=\"text-align: right;\">\n",
       "      <th></th>\n",
       "      <th>User</th>\n",
       "      <th>compound</th>\n",
       "      <th>negative</th>\n",
       "      <th>neutral</th>\n",
       "      <th>positive</th>\n",
       "    </tr>\n",
       "  </thead>\n",
       "  <tbody>\n",
       "    <tr>\n",
       "      <th>0</th>\n",
       "      <td>@BBCNews</td>\n",
       "      <td>-0.012286</td>\n",
       "      <td>0.08819</td>\n",
       "      <td>0.82693</td>\n",
       "      <td>0.08487</td>\n",
       "    </tr>\n",
       "    <tr>\n",
       "      <th>1</th>\n",
       "      <td>@CBSNews</td>\n",
       "      <td>-0.033273</td>\n",
       "      <td>0.09921</td>\n",
       "      <td>0.81618</td>\n",
       "      <td>0.08462</td>\n",
       "    </tr>\n",
       "    <tr>\n",
       "      <th>2</th>\n",
       "      <td>@CNN</td>\n",
       "      <td>-0.013648</td>\n",
       "      <td>0.07646</td>\n",
       "      <td>0.84587</td>\n",
       "      <td>0.07766</td>\n",
       "    </tr>\n",
       "    <tr>\n",
       "      <th>3</th>\n",
       "      <td>@FoxNews</td>\n",
       "      <td>0.028176</td>\n",
       "      <td>0.05028</td>\n",
       "      <td>0.88203</td>\n",
       "      <td>0.06769</td>\n",
       "    </tr>\n",
       "    <tr>\n",
       "      <th>4</th>\n",
       "      <td>@nytimes</td>\n",
       "      <td>0.003300</td>\n",
       "      <td>0.06259</td>\n",
       "      <td>0.87667</td>\n",
       "      <td>0.06072</td>\n",
       "    </tr>\n",
       "  </tbody>\n",
       "</table>\n",
       "</div>"
      ],
      "text/plain": [
       "       User  compound  negative  neutral  positive\n",
       "0  @BBCNews -0.012286   0.08819  0.82693   0.08487\n",
       "1  @CBSNews -0.033273   0.09921  0.81618   0.08462\n",
       "2      @CNN -0.013648   0.07646  0.84587   0.07766\n",
       "3  @FoxNews  0.028176   0.05028  0.88203   0.06769\n",
       "4  @nytimes  0.003300   0.06259  0.87667   0.06072"
      ]
     },
     "execution_count": 9,
     "metadata": {},
     "output_type": "execute_result"
    }
   ],
   "source": [
    "df_tweet = pd.DataFrame(result_list_mean)\n",
    "df_tweet"
   ]
  },
  {
   "cell_type": "code",
   "execution_count": 10,
   "metadata": {},
   "outputs": [
    {
     "data": {
      "image/png": "[encoded data removed]",
      "text/plain": [
       "<Figure size 720x504 with 1 Axes>"
      ]
     },
     "metadata": {},
     "output_type": "display_data"
    }
   ],
   "source": [
    "# Set Variables\n",
    "x = df_tweet['User']\n",
    "y = df_tweet['compound']\n",
    "\n",
    "# Create Bar Graph\n",
    "barlist = plt.bar(x,y)\n",
    "\n",
    "# Color each bar\n",
    "barlist[0].set_color('b')\n",
    "barlist[1].set_color('g')\n",
    "barlist[2].set_color('r')\n",
    "barlist[3].set_color('c')\n",
    "barlist[4].set_color('m')\n",
    "\n",
    "# Add labels\n",
    "plt.ylabel('Tweet Polarity')\n",
    "plt.xlabel('Media Source')\n",
    "plt.title('Overall Media Sentiment based on Twitter')\n",
    "\n",
    "plt.show()\n",
    "plt.savefig('media_tweets_scatter.png')"
   ]
  },
  {
   "cell_type": "code",
   "execution_count": 12,
   "metadata": {},
   "outputs": [],
   "source": [
    "pd.DataFrame(csv_list).to_csv('distinguish_sentiments.csv',index=False)"
   ]
  }
 ],
 "metadata": {
  "kernelspec": {
   "display_name": "Python 3",
   "language": "python",
   "name": "python3"
  },
  "language_info": {
   "codemirror_mode": {
    "name": "ipython",
    "version": 3
   },
   "file_extension": ".py",
   "mimetype": "text/x-python",
   "name": "python",
   "nbconvert_exporter": "python",
   "pygments_lexer": "ipython3",
   "version": "3.6.5"
  }
 },
 "nbformat": 4,
 "nbformat_minor": 2
}
